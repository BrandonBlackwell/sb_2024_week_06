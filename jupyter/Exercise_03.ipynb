{
 "cells": [
  {
   "cell_type": "markdown",
   "id": "a5a322f3-eb61-4e45-9a6a-10c98d89dd91",
   "metadata": {},
   "source": [
    "# Exercise 03: Hyperparameter Tuning Part 3: Effects of Randomness\n",
    "\n",
    "**Make sure you have completed Exercise 01 and Exercise 02 before attempting this exercise!**\n",
    "\n",
    "In this exercise, you will explore the effects of randomness on hyperparameter tuning."
   ]
  },
  {
   "cell_type": "markdown",
   "id": "8faa36c2-b733-471a-a053-26bd7c06697e",
   "metadata": {},
   "source": [
    "You know the drill:"
   ]
  },
  {
   "cell_type": "code",
   "execution_count": null,
   "id": "2b053020-a6b1-4729-91f2-048b2a758596",
   "metadata": {},
   "outputs": [],
   "source": [
    "import sys\n",
    "!{sys.executable} -m pip install -U pip\n",
    "!{sys.executable} -m pip install -U scikit-learn matplotlib"
   ]
  },
  {
   "cell_type": "code",
   "execution_count": null,
   "id": "4001bf60-a9ea-4bf7-9044-5ae40b27495c",
   "metadata": {},
   "outputs": [],
   "source": [
    "import matplotlib.pyplot as plt\n",
    "import numpy as np\n",
    "\n",
    "from sklearn.linear_model import LinearRegression\n",
    "from sklearn.model_selection import cross_val_score\n",
    "from sklearn.pipeline import Pipeline\n",
    "from sklearn.preprocessing import PolynomialFeatures\n",
    "from sklearn.model_selection import train_test_split\n"
   ]
  },
  {
   "cell_type": "markdown",
   "id": "99a8d052-c260-43d8-a41f-7680fb4b31d9",
   "metadata": {},
   "source": [
    "We'll return to the underlying model from Exercise 01:"
   ]
  },
  {
   "cell_type": "code",
   "execution_count": null,
   "id": "fb5f2e2d-0fa4-433a-a6a8-5b57e9c276af",
   "metadata": {},
   "outputs": [],
   "source": [
    "def true_fun(X):\n",
    "    return np.cos(1.5 * np.pi * X)"
   ]
  },
  {
   "cell_type": "markdown",
   "id": "d2ed8005-4b75-4960-9983-8b3e8aee52ef",
   "metadata": {},
   "source": [
    "The following code generates noisy samples of the model above.\n",
    "\n",
    "For each polynomial degree,\n",
    "it fits 20 models\n",
    "that are trained\n",
    "using different training/test data subsets.\n",
    "\n",
    "The results are then plotted below."
   ]
  },
  {
   "cell_type": "code",
   "execution_count": null,
   "id": "49439d00-8105-4875-ac0b-d7397a303d8f",
   "metadata": {},
   "outputs": [],
   "source": [
    "np.random.seed(3)\n",
    "\n",
    "N_samples = 50\n",
    "degrees = [1, 2, 3, 4, 5, 6, 10, 15, 20]\n",
    "\n",
    "X_samples = np.sort(np.random.rand(N_samples))\n",
    "y_samples = true_fun(X_samples) + np.random.randn(N_samples) * 0.1\n",
    "\n",
    "N_cols = 3\n",
    "N_rows = 1+(len(degrees)//N_cols)\n",
    "\n",
    "plt.figure(figsize=(5*N_cols, 5*N_rows))\n",
    "for i in range(len(degrees)):\n",
    "    ax = plt.subplot(N_rows, N_cols, i + 1)\n",
    "    plt.setp(ax, xticks=(), yticks=())\n",
    "\n",
    "    xs = np.linspace(0, 1, 1000)\n",
    "    plt.plot(xs, true_fun(xs), linewidth=5.0, color='m', label=\"True function\")\n",
    "    plt.scatter(X_samples, y_samples, edgecolor=\"b\", s=20, label=\"Samples\")\n",
    "\n",
    "    pipeline = Pipeline([\n",
    "        (\"poly\",   PolynomialFeatures(degree=degrees[i], include_bias=False)),\n",
    "        (\"linreg\", LinearRegression()),\n",
    "    ])\n",
    "\n",
    "    for run_idx in range(20):\n",
    "        X_train, X_test, y_train, y_test = train_test_split(X_samples, y_samples, test_size=0.1)\n",
    "        pipeline.fit(X_train[:, np.newaxis], y_train)\n",
    "\n",
    "        xs = np.linspace(0, 1, 1000)\n",
    "        plt.plot(xs, pipeline.predict(xs[:, np.newaxis]))\n",
    "        \n",
    "    plt.xlabel(\"x\")\n",
    "    plt.ylabel(\"y\")\n",
    "    plt.xlim((0, 1))\n",
    "    plt.ylim((-2, 2))\n",
    "    plt.legend(loc=\"best\")\n",
    "    plt.title(\"Degree {}\".format(degrees[i]))\n",
    "\n",
    "plt.show()"
   ]
  },
  {
   "cell_type": "markdown",
   "id": "b9c2a59a-1245-4856-85eb-649109bee7f8",
   "metadata": {},
   "source": [
    "**Which polynomial degree gives the most reliable results?  Justify your conclusion.**"
   ]
  },
  {
   "cell_type": "markdown",
   "id": "4b5b08b0-0ce0-49c5-a774-d78a9606415d",
   "metadata": {},
   "source": [
    "YOUR ANSWER HERE."
   ]
  },
  {
   "cell_type": "markdown",
   "id": "a4bbc9c4-a992-4496-ab91-b929795893dd",
   "metadata": {},
   "source": [
    "**Are there any polynomial degrees that you'd avoid?  Why?**"
   ]
  },
  {
   "cell_type": "markdown",
   "id": "f24aeb19-33c1-481c-8f49-22338a7fe912",
   "metadata": {},
   "source": [
    "YOUR ANSWER HERE."
   ]
  },
  {
   "cell_type": "markdown",
   "id": "cc2850a6-1d00-4568-9ea9-da072ff508c4",
   "metadata": {},
   "source": [
    "**What does changing the random seed do?  Why?  Would this be possible in practice?  How does it affect your preferred model?**"
   ]
  },
  {
   "cell_type": "markdown",
   "id": "74b3fee9-1b50-4279-bd5c-4354f2db89c5",
   "metadata": {},
   "source": [
    "YOUR ANSWER HERE."
   ]
  },
  {
   "cell_type": "markdown",
   "id": "ad7182b2-fc45-4504-be3f-a2ec4b3e3a5a",
   "metadata": {},
   "source": [
    "(Make sure you reset the random seed to 3 before continuing.)"
   ]
  },
  {
   "cell_type": "markdown",
   "id": "00f05c73-bbf3-4dc9-9668-9d34bc3a0786",
   "metadata": {},
   "source": [
    "**What does increasing the noise standard deviation to 0.25 do?  Why?  Would this be possible in practice?  How does it affect your preferred model?**"
   ]
  },
  {
   "cell_type": "markdown",
   "id": "9f62aa62-8fe0-4dba-9e6d-15610b6eb266",
   "metadata": {},
   "source": [
    "YOUR ANSWER HERE."
   ]
  },
  {
   "cell_type": "markdown",
   "id": "dcb0347f-170e-40aa-adb9-f8475341f755",
   "metadata": {},
   "source": [
    "(Make sure you reset the standard deviation to 0.1 before continuing.)"
   ]
  },
  {
   "cell_type": "markdown",
   "id": "ae51a5ec-de89-4da4-8463-c12c08a59701",
   "metadata": {},
   "source": [
    "**What does increasing the test fraction to 0.5 do?  Why?  Would this be possible in practice?  How does it affect your preferred model?**"
   ]
  },
  {
   "cell_type": "markdown",
   "id": "897f1e50-87f9-4af0-a454-c74353d2ffe0",
   "metadata": {},
   "source": [
    "YOUR ANSWER HERE."
   ]
  },
  {
   "cell_type": "markdown",
   "id": "9a4559f0-bf2b-4f38-8676-8cd39314d6d1",
   "metadata": {},
   "source": [
    "(Make sure you reset the test fraction to 0.1.)"
   ]
  },
  {
   "cell_type": "markdown",
   "id": "311ef623-18a8-4e61-866c-ac1ba23b0b85",
   "metadata": {},
   "source": [
    "**Which degree has the highest bias?  Which has the highest variance?**"
   ]
  },
  {
   "cell_type": "markdown",
   "id": "b22ef962-7819-44d3-b7cb-0667c66cb320",
   "metadata": {},
   "source": [
    "YOUR ANSWER HERE."
   ]
  },
  {
   "cell_type": "code",
   "execution_count": null,
   "id": "71d843d4-1cbb-4d21-a5fe-924736810b84",
   "metadata": {},
   "outputs": [],
   "source": []
  }
 ],
 "metadata": {
  "kernelspec": {
   "display_name": "Python 3 (ipykernel)",
   "language": "python",
   "name": "python3"
  },
  "language_info": {
   "codemirror_mode": {
    "name": "ipython",
    "version": 3
   },
   "file_extension": ".py",
   "mimetype": "text/x-python",
   "name": "python",
   "nbconvert_exporter": "python",
   "pygments_lexer": "ipython3",
   "version": "3.10.13"
  }
 },
 "nbformat": 4,
 "nbformat_minor": 5
}
