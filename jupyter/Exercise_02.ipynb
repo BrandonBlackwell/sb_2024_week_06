{
 "cells": [
  {
   "cell_type": "markdown",
   "id": "d21aecdb-bd3b-4177-acc4-855dcabe2d56",
   "metadata": {},
   "source": [
    "# Exercise 02: Hyperparameter Tuning Part 2: Manual Tuning\n",
    "\n",
    "**Make sure you have completed Exercise 01 before attempting this exercise!**\n",
    "\n",
    "In this exercise, you will learn how to manually evaluate hyperparameter settings.\n",
    "\n",
    "Let's take care of packages and modules:"
   ]
  },
  {
   "cell_type": "code",
   "execution_count": null,
   "id": "a5313ea5-6926-443c-af1c-d49b7814ebba",
   "metadata": {},
   "outputs": [],
   "source": [
    "import sys\n",
    "!{sys.executable} -m pip install -U pip\n",
    "!{sys.executable} -m pip install -U scikit-learn matplotlib"
   ]
  },
  {
   "cell_type": "code",
   "execution_count": null,
   "id": "b5b28f87-0d96-4ba2-a229-7a8bafaaa942",
   "metadata": {},
   "outputs": [],
   "source": [
    "import matplotlib.pyplot as plt\n",
    "import numpy as np\n",
    "\n",
    "from sklearn.pipeline import Pipeline\n",
    "from sklearn.linear_model import LinearRegression\n",
    "from sklearn.preprocessing import PolynomialFeatures"
   ]
  },
  {
   "cell_type": "markdown",
   "id": "dbc3545b-5a0f-4d87-ad33-5122cfafa3f7",
   "metadata": {},
   "source": [
    "The following code generates some data samples for analysis.\n",
    "You don't need to know how it works."
   ]
  },
  {
   "cell_type": "code",
   "execution_count": null,
   "id": "5c6de397-17b8-4b69-be92-663d7422d7a7",
   "metadata": {},
   "outputs": [],
   "source": [
    "np.random.seed(3)\n",
    "X_samples = np.sort(np.random.rand(30))\n",
    "y_samples = -(np.random.randn(30)/10.0 + np.sin(3.0 * np.pi/2 * X_samples + np.pi/2))"
   ]
  },
  {
   "cell_type": "markdown",
   "id": "f88c1261-b98a-4a0a-9a5f-1036d5715ee1",
   "metadata": {},
   "source": [
    "Let's plot the samples to get a feel for the data:"
   ]
  },
  {
   "cell_type": "code",
   "execution_count": null,
   "id": "79040b01-f685-423b-89cc-83545d46bd48",
   "metadata": {},
   "outputs": [],
   "source": [
    "plt.figure(figsize=(5, 5))\n",
    "plt.setp(plt.gca(), xticks=(), yticks=())\n",
    "plt.scatter(X_samples[:,np.newaxis], y_samples, color=\"b\", s=5, label=\"Samples\")\n",
    "plt.xlabel(\"x\")\n",
    "plt.ylabel(\"y\")\n",
    "plt.xlim((0, 1))\n",
    "plt.ylim((-2, 2))\n",
    "plt.legend(loc=\"best\")\n",
    "plt.title(\"Samples\")\n",
    "plt.show()"
   ]
  },
  {
   "cell_type": "markdown",
   "id": "ae323182-2598-4084-a1f9-cc5a7b05a869",
   "metadata": {},
   "source": [
    "The following code fits polynomials of various degrees to the samples above and plots the results:"
   ]
  },
  {
   "cell_type": "code",
   "execution_count": null,
   "id": "8a3e004c-910a-40a1-80a8-7b0398651d28",
   "metadata": {},
   "outputs": [],
   "source": [
    "degrees = [1, 2, 3, 4, 5, 6, 7, 8, 9, 10, 11, 12]\n",
    "\n",
    "N_cols = 4\n",
    "N_rows = 1+(len(degrees)//N_cols)\n",
    "\n",
    "plt.figure(figsize=(5*N_cols, 5*N_rows))\n",
    "\n",
    "for i in range(len(degrees)):\n",
    "    ax = plt.subplot(N_rows, N_cols, i+1)\n",
    "    plt.setp(ax, xticks=(), yticks=())\n",
    "\n",
    "    pipeline = Pipeline([\n",
    "        (\"poly\",   PolynomialFeatures(degree=degrees[i], include_bias=False)),\n",
    "        (\"linreg\", LinearRegression()),\n",
    "    ])\n",
    "    pipeline.fit(X_samples[:, np.newaxis], y_samples)\n",
    "\n",
    "    xs = np.linspace(0, 1, 1000)\n",
    "    plt.scatter(X_samples, y_samples, color=\"b\", s=5, label=\"Samples\")\n",
    "    plt.plot(xs, pipeline.predict(xs[:, np.newaxis]), color='darkorange', label=\"Model\")\n",
    "    plt.xlabel(\"x\")\n",
    "    plt.ylabel(\"y\")\n",
    "    plt.xlim((0, 1))\n",
    "    plt.ylim((-2, 2))\n",
    "    plt.legend(loc=\"best\")\n",
    "    plt.title(\"Degree {}\".format(degrees[i]))\n",
    "\n",
    "plt.show()"
   ]
  },
  {
   "cell_type": "markdown",
   "id": "48457d56-1cd7-4b87-b455-070f76fcc9ae",
   "metadata": {},
   "source": [
    "**Which polynomial degree do you think best fits the data?  Why?**"
   ]
  },
  {
   "cell_type": "markdown",
   "id": "5132de5d-9816-4b4d-9a03-56c22dacc48f",
   "metadata": {},
   "source": [
    "YOUR ANSWER HERE."
   ]
  },
  {
   "cell_type": "markdown",
   "id": "0bf5de0e-0e27-4e82-b488-f58a963e7f63",
   "metadata": {},
   "source": [
    "The following code fits a degree-50 polynomial to the data points:"
   ]
  },
  {
   "cell_type": "code",
   "execution_count": null,
   "id": "eede9db3-830b-4cd0-b38b-dd30cf35e87f",
   "metadata": {},
   "outputs": [],
   "source": [
    "pipeline = Pipeline([\n",
    "    (\"poly\",   PolynomialFeatures(degree=50, include_bias=False)),\n",
    "    (\"linreg\", LinearRegression()),\n",
    "])\n",
    "pipeline.fit(X_samples[:, np.newaxis], y_samples)\n",
    "\n",
    "plt.figure(figsize=(5, 5))\n",
    "plt.setp(plt.gca(), xticks=(), yticks=())\n",
    "xs = np.linspace(0, 1, 10000)\n",
    "plt.scatter(X_samples[:,np.newaxis], y_samples, color=\"b\", s=5, label=\"Samples\")\n",
    "plt.plot(xs, pipeline.predict(xs[:, np.newaxis]), color='darkorange', label=\"Model\")\n",
    "plt.xlabel(\"x\")\n",
    "plt.ylabel(\"y\")\n",
    "plt.xlim((0, 1))\n",
    "plt.ylim((-2, 2))\n",
    "plt.legend(loc=\"best\")\n",
    "plt.title(\"Degree-50 Polynomial Fit\")\n",
    "plt.show()"
   ]
  },
  {
   "cell_type": "markdown",
   "id": "26eae973-f2e8-446f-9350-29f1ea1772a0",
   "metadata": {},
   "source": [
    "Note that the predicted values (in orange) pass through (or very close to) almost every data point.\n",
    "\n",
    "**Is this model a good fit for the data?  Why or why not?**"
   ]
  },
  {
   "cell_type": "markdown",
   "id": "f4a2cc82-6648-4ae2-8d06-b7891945142c",
   "metadata": {},
   "source": [
    "YOUR ANSWER HERE."
   ]
  },
  {
   "cell_type": "markdown",
   "id": "9d8143ab-93a9-44cb-90f8-bb4cab168a1b",
   "metadata": {},
   "source": [
    "**Did you make any assumptions in your last answer?  If so, what were they?**"
   ]
  },
  {
   "cell_type": "markdown",
   "id": "d2288db8-ce75-4859-8602-95af4771a49d",
   "metadata": {},
   "source": [
    "YOUR ANSWER HERE."
   ]
  },
  {
   "cell_type": "code",
   "execution_count": null,
   "id": "e26a3e3d-9fc2-4831-84f0-4886b12d528f",
   "metadata": {},
   "outputs": [],
   "source": []
  }
 ],
 "metadata": {
  "kernelspec": {
   "display_name": "Python 3 (ipykernel)",
   "language": "python",
   "name": "python3"
  },
  "language_info": {
   "codemirror_mode": {
    "name": "ipython",
    "version": 3
   },
   "file_extension": ".py",
   "mimetype": "text/x-python",
   "name": "python",
   "nbconvert_exporter": "python",
   "pygments_lexer": "ipython3",
   "version": "3.10.13"
  }
 },
 "nbformat": 4,
 "nbformat_minor": 5
}
